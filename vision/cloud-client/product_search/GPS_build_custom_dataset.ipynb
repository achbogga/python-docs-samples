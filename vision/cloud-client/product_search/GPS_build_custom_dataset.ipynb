{
 "cells": [
  {
   "cell_type": "code",
   "execution_count": 1,
   "metadata": {},
   "outputs": [],
   "source": [
    "import os\n",
    "import sys\n",
    "from tqdm import tqdm\n",
    "import time"
   ]
  },
  {
   "cell_type": "code",
   "execution_count": 2,
   "metadata": {},
   "outputs": [
    {
     "name": "stdout",
     "output_type": "stream",
     "text": [
      "env: GOOGLE_APPLICATION_CREDENTIALS=/home/caffe/achu/Data/gcp-credentials/Experimental-c88d2cc96030.json\n"
     ]
    }
   ],
   "source": [
    "toy_dataset_path = '/home/caffe/achu/Data/toy_dataset'\n",
    "train_dataset_path = toy_dataset_path\n",
    "project_id = 'experimental-237820'\n",
    "location = 'us-west1'\n",
    "product_set_display_name = 'clobotics-china-drinks-toy'\n",
    "product_set_id  = 'china_drinks_toy_Sep_09_2019'\n",
    "valid_product_categories = ['apparel', 'homegoods', 'toys', 'apparel-v2', 'homegoods-v2', 'toys-v2', 'packagedgoods-v1']\n",
    "product_category = valid_product_categories[-1]\n",
    "gcs_bucket_uri = 'gs://clobotics-china-drinks-toy/toy_dataset'\n",
    "\n",
    "# Very important to authenticate the cloud vision API\n",
    "# https://cloud.google.com/vision/docs/before-you-begin\n",
    "%env GOOGLE_APPLICATION_CREDENTIALS /home/caffe/achu/Data/gcp-credentials/Experimental-c88d2cc96030.json"
   ]
  },
  {
   "cell_type": "code",
   "execution_count": 3,
   "metadata": {},
   "outputs": [],
   "source": [
    "from product_set_management import create_product_set, list_product_sets, get_product_set, delete_product_set\n",
    "from product_management import create_product, list_products, get_product, update_product_labels, delete_product\n",
    "from product_in_product_set_management import add_product_to_product_set, list_products_in_product_set, remove_product_from_product_set\n",
    "from reference_image_management import create_reference_image, list_reference_images, get_reference_image, delete_reference_image\n",
    "from product_search import get_similar_products_file, get_similar_products_uri"
   ]
  },
  {
   "cell_type": "code",
   "execution_count": 5,
   "metadata": {},
   "outputs": [
    {
     "name": "stdout",
     "output_type": "stream",
     "text": [
      "Product set name: projects/experimental-237820/locations/us-west1/productSets/china_drinks_toy_Sep_09_2019\n"
     ]
    }
   ],
   "source": [
    "# Step 1 create a product set\n",
    "try:\n",
    "    create_product_set(project_id, location, product_set_id, product_set_display_name)\n",
    "except:\n",
    "    # delete the product set if it exists\n",
    "    delete_product_set(project_id, location, product_set_id)\n",
    "    time.sleep(60)\n",
    "    create_product_set(project_id, location, product_set_id, product_set_display_name)"
   ]
  },
  {
   "cell_type": "code",
   "execution_count": 6,
   "metadata": {},
   "outputs": [],
   "source": [
    "sku_ids = os.listdir(toy_dataset_path)\n",
    "sku_paths = [toy_dataset_path+'/'+sku for sku in sku_ids]"
   ]
  },
  {
   "cell_type": "code",
   "execution_count": 7,
   "metadata": {},
   "outputs": [
    {
     "name": "stderr",
     "output_type": "stream",
     "text": [
      "\r",
      "  0%|          | 0/2 [00:00<?, ?it/s]"
     ]
    },
    {
     "name": "stdout",
     "output_type": "stream",
     "text": [
      "Building GPS index for 2 products\n",
      "Product deleted.\n",
      "Product name: projects/experimental-237820/locations/us-west1/products/1064699\n",
      "Product added to product set.\n",
      "Reference image name: projects/experimental-237820/locations/us-west1/products/1064699/referenceImages/435540\n",
      "Reference image uri: gs://clobotics-china-drinks-toy/toy_dataset/1064699/435540.jpg\n",
      "Reference image name: projects/experimental-237820/locations/us-west1/products/1064699/referenceImages/435544\n",
      "Reference image uri: gs://clobotics-china-drinks-toy/toy_dataset/1064699/435544.jpg\n",
      "Reference image name: projects/experimental-237820/locations/us-west1/products/1064699/referenceImages/435545\n",
      "Reference image uri: gs://clobotics-china-drinks-toy/toy_dataset/1064699/435545.jpg\n",
      "Reference image name: projects/experimental-237820/locations/us-west1/products/1064699/referenceImages/435543\n",
      "Reference image uri: gs://clobotics-china-drinks-toy/toy_dataset/1064699/435543.jpg\n",
      "Reference image name: projects/experimental-237820/locations/us-west1/products/1064699/referenceImages/435583\n",
      "Reference image uri: gs://clobotics-china-drinks-toy/toy_dataset/1064699/435583.jpg\n",
      "Reference image name: projects/experimental-237820/locations/us-west1/products/1064699/referenceImages/435580\n",
      "Reference image uri: gs://clobotics-china-drinks-toy/toy_dataset/1064699/435580.jpg\n",
      "Reference image name: projects/experimental-237820/locations/us-west1/products/1064699/referenceImages/435542\n",
      "Reference image uri: gs://clobotics-china-drinks-toy/toy_dataset/1064699/435542.jpg\n",
      "Reference image name: projects/experimental-237820/locations/us-west1/products/1064699/referenceImages/435539\n",
      "Reference image uri: gs://clobotics-china-drinks-toy/toy_dataset/1064699/435539.jpg\n",
      "Reference image name: projects/experimental-237820/locations/us-west1/products/1064699/referenceImages/435581\n",
      "Reference image uri: gs://clobotics-china-drinks-toy/toy_dataset/1064699/435581.jpg\n"
     ]
    },
    {
     "name": "stderr",
     "output_type": "stream",
     "text": [
      "\r",
      " 50%|█████     | 1/2 [00:10<00:10, 10.93s/it]"
     ]
    },
    {
     "name": "stdout",
     "output_type": "stream",
     "text": [
      "Reference image name: projects/experimental-237820/locations/us-west1/products/1064699/referenceImages/435541\n",
      "Reference image uri: gs://clobotics-china-drinks-toy/toy_dataset/1064699/435541.jpg\n",
      "Product deleted.\n",
      "Product name: projects/experimental-237820/locations/us-west1/products/1057364\n",
      "Product added to product set.\n",
      "Reference image name: projects/experimental-237820/locations/us-west1/products/1057364/referenceImages/244984\n",
      "Reference image uri: gs://clobotics-china-drinks-toy/toy_dataset/1057364/244984.jpg\n",
      "Reference image name: projects/experimental-237820/locations/us-west1/products/1057364/referenceImages/26315\n",
      "Reference image uri: gs://clobotics-china-drinks-toy/toy_dataset/1057364/26315.jpg\n",
      "Reference image name: projects/experimental-237820/locations/us-west1/products/1057364/referenceImages/243442\n",
      "Reference image uri: gs://clobotics-china-drinks-toy/toy_dataset/1057364/243442.jpg\n",
      "Reference image name: projects/experimental-237820/locations/us-west1/products/1057364/referenceImages/244983\n",
      "Reference image uri: gs://clobotics-china-drinks-toy/toy_dataset/1057364/244983.jpg\n",
      "Reference image name: projects/experimental-237820/locations/us-west1/products/1057364/referenceImages/24678\n",
      "Reference image uri: gs://clobotics-china-drinks-toy/toy_dataset/1057364/24678.jpg\n",
      "Reference image name: projects/experimental-237820/locations/us-west1/products/1057364/referenceImages/243438\n",
      "Reference image uri: gs://clobotics-china-drinks-toy/toy_dataset/1057364/243438.jpg\n",
      "Reference image name: projects/experimental-237820/locations/us-west1/products/1057364/referenceImages/243413\n",
      "Reference image uri: gs://clobotics-china-drinks-toy/toy_dataset/1057364/243413.jpg\n",
      "Reference image name: projects/experimental-237820/locations/us-west1/products/1057364/referenceImages/26318\n",
      "Reference image uri: gs://clobotics-china-drinks-toy/toy_dataset/1057364/26318.jpg\n",
      "Reference image name: projects/experimental-237820/locations/us-west1/products/1057364/referenceImages/243414\n",
      "Reference image uri: gs://clobotics-china-drinks-toy/toy_dataset/1057364/243414.jpg\n"
     ]
    },
    {
     "name": "stderr",
     "output_type": "stream",
     "text": [
      "100%|██████████| 2/2 [00:20<00:00, 10.29s/it]"
     ]
    },
    {
     "name": "stdout",
     "output_type": "stream",
     "text": [
      "Reference image name: projects/experimental-237820/locations/us-west1/products/1057364/referenceImages/243412\n",
      "Reference image uri: gs://clobotics-china-drinks-toy/toy_dataset/1057364/243412.jpg\n"
     ]
    },
    {
     "name": "stderr",
     "output_type": "stream",
     "text": [
      "\n"
     ]
    }
   ],
   "source": [
    "print ('Building GPS index for '+str(len(sku_ids))+' products')\n",
    "for i in tqdm(range(len(sku_ids))):\n",
    "    product_id = product_display_name = sku_ids[i]\n",
    "    # Step 2 create a product\n",
    "    try:\n",
    "        create_product(project_id, location, product_id, product_display_name, product_category)\n",
    "    except:\n",
    "        delete_product(project_id, location, product_id)\n",
    "        create_product(project_id, location, product_id, product_display_name, product_category)\n",
    "\n",
    "    # Step 3 add a product to the product set\n",
    "    add_product_to_product_set(project_id, location, product_id, product_set_id)\n",
    "\n",
    "    # Step 4 create reference images to the product\n",
    "    ref_image_names = os.listdir(sku_paths[i])\n",
    "    reference_image_ids = [''.join(ref_image_name.split('.')[:-1]) for ref_image_name in ref_image_names]\n",
    "    gcs_uris = [gcs_bucket_uri+'/'+product_id+'/'+ref_image_names[j] for j in range(len(ref_image_names))]\n",
    "    for j in range(len(ref_image_names)):\n",
    "        gcs_uri = gcs_uris[j]\n",
    "        reference_image_id = reference_image_ids[j]\n",
    "        create_reference_image(project_id, location, product_id, reference_image_id, gcs_uri)"
   ]
  },
  {
   "cell_type": "code",
   "execution_count": 15,
   "metadata": {},
   "outputs": [
    {
     "name": "stdout",
     "output_type": "stream",
     "text": [
      "Product set index time:\n",
      "  seconds: 1568138621\n",
      "  nanos: 625567726\n",
      "\n",
      "Search results:\n",
      "Score(Confidence): 1.0\n",
      "Image name: projects/experimental-237820/locations/us-west1/products/1057364/referenceImages/243412\n",
      "Product name: projects/experimental-237820/locations/us-west1/products/1057364\n",
      "Product display name: 1057364\n",
      "Product description: \n",
      "\n",
      "Product labels: []\n",
      "\n",
      "Score(Confidence): 0.4125311076641083\n",
      "Image name: projects/experimental-237820/locations/us-west1/products/1064699/referenceImages/435544\n",
      "Product name: projects/experimental-237820/locations/us-west1/products/1064699\n",
      "Product display name: 1064699\n",
      "Product description: \n",
      "\n",
      "Product labels: []\n",
      "\n"
     ]
    }
   ],
   "source": [
    "output = get_similar_products_uri(project_id, location, product_set_id, product_category,'gs://clobotics-china-drinks-toy/toy_dataset/1057364/243412.jpg', None)"
   ]
  },
  {
   "cell_type": "code",
   "execution_count": 16,
   "metadata": {},
   "outputs": [],
   "source": [
    "output"
   ]
  },
  {
   "cell_type": "code",
   "execution_count": null,
   "metadata": {},
   "outputs": [],
   "source": []
  }
 ],
 "metadata": {
  "kernelspec": {
   "display_name": "tf-gpu-cuda8",
   "language": "python",
   "name": "tf-gpu-cuda8"
  },
  "language_info": {
   "codemirror_mode": {
    "name": "ipython",
    "version": 3
   },
   "file_extension": ".py",
   "mimetype": "text/x-python",
   "name": "python",
   "nbconvert_exporter": "python",
   "pygments_lexer": "ipython3",
   "version": "3.6.9"
  }
 },
 "nbformat": 4,
 "nbformat_minor": 2
}
